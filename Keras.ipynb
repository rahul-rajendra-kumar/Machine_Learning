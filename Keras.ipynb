{
  "nbformat": 4,
  "nbformat_minor": 0,
  "metadata": {
    "kernelspec": {
      "display_name": "Python 3",
      "language": "python",
      "name": "python3"
    },
    "language_info": {
      "codemirror_mode": {
        "name": "ipython",
        "version": 3
      },
      "file_extension": ".py",
      "mimetype": "text/x-python",
      "name": "python",
      "nbconvert_exporter": "python",
      "pygments_lexer": "ipython3",
      "version": "3.7.3"
    },
    "colab": {
      "name": "Keras.ipynb",
      "provenance": [],
      "include_colab_link": true
    }
  },
  "cells": [
    {
      "cell_type": "markdown",
      "metadata": {
        "id": "view-in-github",
        "colab_type": "text"
      },
      "source": [
        "<a href=\"https://colab.research.google.com/github/rahul-rajendra-kumar/Machine_Learning/blob/main/Keras.ipynb\" target=\"_parent\"><img src=\"https://colab.research.google.com/assets/colab-badge.svg\" alt=\"Open In Colab\"/></a>"
      ]
    },
    {
      "cell_type": "markdown",
      "metadata": {
        "id": "sLeCQTx9e6wT"
      },
      "source": [
        "# Introducing Keras\n",
        "\n",
        "Be sure to be using tensorflow 1.9 or newer!\n",
        "\n",
        "Keras is a higher-level API within TensorFlow that makes things a lot easier. Not only is it easier to use, it's easier to tune.\n",
        "\n",
        "Let's set up the same deep neural network we set up with TensorFlow to learn from the MNIST data set.\n",
        "\n",
        "First we'll import all the stuff we need, which will initialize Keras as a side effect:"
      ]
    },
    {
      "cell_type": "code",
      "metadata": {
        "id": "ra8Vg0MZe6wZ"
      },
      "source": [
        "from tensorflow import keras\n",
        "from tensorflow.keras.datasets import mnist\n",
        "from tensorflow.keras.models import Sequential\n",
        "from tensorflow.keras.layers import Dense, Dropout\n",
        "from tensorflow.keras.optimizers import RMSprop"
      ],
      "execution_count": null,
      "outputs": []
    },
    {
      "cell_type": "markdown",
      "metadata": {
        "id": "F1kL1aQue6wa"
      },
      "source": [
        "We'll load up the MNIST data set. Again, there are 60K training samples and 10K test samples."
      ]
    },
    {
      "cell_type": "code",
      "metadata": {
        "colab": {
          "base_uri": "https://localhost:8080/"
        },
        "id": "B9cs7mSOe6wb",
        "outputId": "c94c6e55-5647-4773-824f-f437249caeba"
      },
      "source": [
        "(mnist_train_images, mnist_train_labels), (mnist_test_images, mnist_test_labels) = mnist.load_data()"
      ],
      "execution_count": null,
      "outputs": [
        {
          "output_type": "stream",
          "text": [
            "Downloading data from https://storage.googleapis.com/tensorflow/tf-keras-datasets/mnist.npz\n",
            "11493376/11490434 [==============================] - 0s 0us/step\n"
          ],
          "name": "stdout"
        }
      ]
    },
    {
      "cell_type": "markdown",
      "metadata": {
        "id": "Ps_CCYkqe6wc"
      },
      "source": [
        "We need to explicitly convert the data into the format Keras / TensorFlow expects. We divide the image data by 255 in order to normalize it into 0-1 range, after converting it into floating point values."
      ]
    },
    {
      "cell_type": "code",
      "metadata": {
        "id": "4Inn_DsKe6wc"
      },
      "source": [
        "train_images = mnist_train_images.reshape(60000, 784)\n",
        "test_images = mnist_test_images.reshape(10000, 784)\n",
        "train_images = train_images.astype('float32')\n",
        "test_images = test_images.astype('float32')\n",
        "train_images /= 255\n",
        "test_images /= 255"
      ],
      "execution_count": null,
      "outputs": []
    },
    {
      "cell_type": "markdown",
      "metadata": {
        "id": "gLLYzdbZe6wc"
      },
      "source": [
        "Now we'll convert the 0-9 labels into \"one-hot\" format. Think of one_hot as a binary representation of the label data - that is, which number each handwriting sample was intended to represent. Mathematically one_hot represents a dimension for every possible label value. Every dimension is set to the value 0, except for the \"correct\" one which is set to 1. For example, the label vector representing the number 1 would be [0, 1, 0, 0, 0, 0, 0, 0, 0, 0] (remember we start counting at 0.) It's just a format that's optimized for how the labels are applied during training.\n",
        "\n",
        "So the training label data is a tensor of shape [60,000, 10] - 60,000 test images each associated with 10 binary values that indicate whether or not the image represents a given number from 0-9."
      ]
    },
    {
      "cell_type": "code",
      "metadata": {
        "id": "bKGuDrqae6wc"
      },
      "source": [
        "train_labels = keras.utils.to_categorical(mnist_train_labels, 10)\n",
        "test_labels = keras.utils.to_categorical(mnist_test_labels, 10)"
      ],
      "execution_count": null,
      "outputs": []
    },
    {
      "cell_type": "markdown",
      "metadata": {
        "id": "hNr0qoGwe6wd"
      },
      "source": [
        "Let's take a peek at one of the training images just to make sure it looks OK:"
      ]
    },
    {
      "cell_type": "code",
      "metadata": {
        "colab": {
          "base_uri": "https://localhost:8080/",
          "height": 298
        },
        "id": "kvRgMV_Le6wd",
        "outputId": "a20c30c5-e6a3-4eda-8879-c8a8781f5296"
      },
      "source": [
        "import matplotlib.pyplot as plt\n",
        "\n",
        "def display_sample(num):\n",
        "    #Print the one-hot array of this sample's label \n",
        "    print(train_labels[num])  \n",
        "    #Print the label converted back to a number\n",
        "    label = train_labels[num].argmax(axis=0)\n",
        "    #Reshape the 768 values to a 28x28 image\n",
        "    image = train_images[num].reshape([28,28])\n",
        "    plt.title('Sample: %d  Label: %d' % (num, label))\n",
        "    plt.imshow(image, cmap=plt.get_cmap('gray_r'))\n",
        "    plt.show()\n",
        "    \n",
        "display_sample(1234)"
      ],
      "execution_count": null,
      "outputs": [
        {
          "output_type": "stream",
          "text": [
            "[0. 0. 0. 1. 0. 0. 0. 0. 0. 0.]\n"
          ],
          "name": "stdout"
        },
        {
          "output_type": "display_data",
          "data": {
            "image/png": "[encoded data removed]",
            "text/plain": [
              "<Figure size 432x288 with 1 Axes>"
            ]
          },
          "metadata": {
            "tags": [],
            "needs_background": "light"
          }
        }
      ]
    },
    {
      "cell_type": "markdown",
      "metadata": {
        "id": "VkPCbb_je6we"
      },
      "source": [
        "Here's where things get exciting. All that code we wrote in Tensorflow creating placeholders, variables, and defining a bunch of linear algebra for each layer in our neural network? None of that is necessary with Keras!\n",
        "\n",
        "We can set up the same layers like this. The input layer of 784 features feeds into a ReLU layer of 512 nodes, which then goes into 10 nodes with softmax applied. Couldn't be simpler:"
      ]
    },
    {
      "cell_type": "code",
      "metadata": {
        "id": "gGWPqgu6e6we"
      },
      "source": [
        "model = Sequential()\n",
        "model.add(Dense(512, activation='relu', input_shape=(784,)))\n",
        "model.add(Dense(10, activation='softmax'))"
      ],
      "execution_count": null,
      "outputs": []
    },
    {
      "cell_type": "markdown",
      "metadata": {
        "id": "TBvRV2F1e6wf"
      },
      "source": [
        "We can even get a nice description of the resulting model:"
      ]
    },
    {
      "cell_type": "code",
      "metadata": {
        "colab": {
          "base_uri": "https://localhost:8080/"
        },
        "id": "Yuu3PM5re6wf",
        "outputId": "5c897d60-9ee6-4bfc-a1b5-11173ed6d218"
      },
      "source": [
        "model.summary()"
      ],
      "execution_count": null,
      "outputs": [
        {
          "output_type": "stream",
          "text": [
            "Model: \"sequential\"\n",
            "_________________________________________________________________\n",
            "Layer (type)                 Output Shape              Param #   \n",
            "=================================================================\n",
            "dense (Dense)                (None, 512)               401920    \n",
            "_________________________________________________________________\n",
            "dense_1 (Dense)              (None, 10)                5130      \n",
            "=================================================================\n",
            "Total params: 407,050\n",
            "Trainable params: 407,050\n",
            "Non-trainable params: 0\n",
            "_________________________________________________________________\n"
          ],
          "name": "stdout"
        }
      ]
    },
    {
      "cell_type": "markdown",
      "metadata": {
        "id": "Tjmunx7Ve6wf"
      },
      "source": [
        "Setting up our optimizer and loss function is just as simple. We will use the RMSProp optimizer here. Other choices include Adagrad, SGD, Adam, Adamax, and Nadam. See https://keras.io/optimizers/"
      ]
    },
    {
      "cell_type": "code",
      "metadata": {
        "id": "PzT2Mjbbe6wf"
      },
      "source": [
        "model.compile(loss='categorical_crossentropy',\n",
        "              optimizer=RMSprop(),\n",
        "              metrics=['accuracy'])"
      ],
      "execution_count": null,
      "outputs": []
    },
    {
      "cell_type": "markdown",
      "metadata": {
        "id": "8JU2xjBDe6wf"
      },
      "source": [
        "Training our model is also just one line of code with Keras. Here we'll do 10 epochs with a batch size of 100. Keras is slower, and if we're not running on top of a GPU-accelerated Tensorflow this can take a fair amount of time (that's why I've limited it to just 10 epochs.)"
      ]
    },
    {
      "cell_type": "code",
      "metadata": {
        "colab": {
          "base_uri": "https://localhost:8080/"
        },
        "id": "hMZB2W8Re6wf",
        "outputId": "7f624ecb-8a31-414b-e3f4-6c310f5ae656"
      },
      "source": [
        "history = model.fit(train_images, train_labels,\n",
        "                    batch_size=100,\n",
        "                    epochs=50,\n",
        "                    verbose=2,\n",
        "                    validation_data=(test_images, test_labels))"
      ],
      "execution_count": null,
      "outputs": [
        {
          "output_type": "stream",
          "text": [
            "Epoch 1/50\n",
            "600/600 - 6s - loss: 0.2417 - accuracy: 0.9294 - val_loss: 0.1223 - val_accuracy: 0.9629\n",
            "Epoch 2/50\n",
            "600/600 - 5s - loss: 0.0984 - accuracy: 0.9715 - val_loss: 0.0841 - val_accuracy: 0.9754\n",
            "Epoch 3/50\n",
            "600/600 - 5s - loss: 0.0670 - accuracy: 0.9801 - val_loss: 0.0760 - val_accuracy: 0.9760\n",
            "Epoch 4/50\n",
            "600/600 - 5s - loss: 0.0478 - accuracy: 0.9857 - val_loss: 0.0685 - val_accuracy: 0.9799\n",
            "Epoch 5/50\n",
            "600/600 - 6s - loss: 0.0362 - accuracy: 0.9894 - val_loss: 0.0691 - val_accuracy: 0.9793\n",
            "Epoch 6/50\n",
            "600/600 - 5s - loss: 0.0275 - accuracy: 0.9918 - val_loss: 0.0626 - val_accuracy: 0.9825\n",
            "Epoch 7/50\n",
            "600/600 - 5s - loss: 0.0215 - accuracy: 0.9937 - val_loss: 0.0686 - val_accuracy: 0.9823\n",
            "Epoch 8/50\n",
            "600/600 - 5s - loss: 0.0169 - accuracy: 0.9951 - val_loss: 0.0610 - val_accuracy: 0.9834\n",
            "Epoch 9/50\n",
            "600/600 - 5s - loss: 0.0124 - accuracy: 0.9964 - val_loss: 0.0708 - val_accuracy: 0.9819\n",
            "Epoch 10/50\n",
            "600/600 - 5s - loss: 0.0098 - accuracy: 0.9972 - val_loss: 0.0826 - val_accuracy: 0.9807\n",
            "Epoch 11/50\n",
            "600/600 - 5s - loss: 0.0075 - accuracy: 0.9977 - val_loss: 0.0843 - val_accuracy: 0.9803\n",
            "Epoch 12/50\n",
            "600/600 - 5s - loss: 0.0060 - accuracy: 0.9984 - val_loss: 0.0786 - val_accuracy: 0.9824\n",
            "Epoch 13/50\n",
            "600/600 - 5s - loss: 0.0044 - accuracy: 0.9988 - val_loss: 0.0815 - val_accuracy: 0.9829\n",
            "Epoch 14/50\n",
            "600/600 - 5s - loss: 0.0037 - accuracy: 0.9989 - val_loss: 0.0900 - val_accuracy: 0.9819\n",
            "Epoch 15/50\n",
            "600/600 - 5s - loss: 0.0030 - accuracy: 0.9991 - val_loss: 0.0875 - val_accuracy: 0.9824\n",
            "Epoch 16/50\n",
            "600/600 - 5s - loss: 0.0022 - accuracy: 0.9994 - val_loss: 0.0948 - val_accuracy: 0.9812\n",
            "Epoch 17/50\n",
            "600/600 - 5s - loss: 0.0015 - accuracy: 0.9995 - val_loss: 0.0890 - val_accuracy: 0.9824\n",
            "Epoch 18/50\n",
            "600/600 - 5s - loss: 0.0012 - accuracy: 0.9997 - val_loss: 0.0982 - val_accuracy: 0.9823\n",
            "Epoch 19/50\n",
            "600/600 - 5s - loss: 0.0011 - accuracy: 0.9996 - val_loss: 0.1043 - val_accuracy: 0.9823\n",
            "Epoch 20/50\n",
            "600/600 - 5s - loss: 9.2122e-04 - accuracy: 0.9998 - val_loss: 0.1053 - val_accuracy: 0.9818\n",
            "Epoch 21/50\n",
            "600/600 - 5s - loss: 7.4828e-04 - accuracy: 0.9998 - val_loss: 0.1107 - val_accuracy: 0.9820\n",
            "Epoch 22/50\n",
            "600/600 - 5s - loss: 6.9974e-04 - accuracy: 0.9998 - val_loss: 0.1106 - val_accuracy: 0.9826\n",
            "Epoch 23/50\n",
            "600/600 - 5s - loss: 4.1366e-04 - accuracy: 0.9999 - val_loss: 0.1129 - val_accuracy: 0.9829\n",
            "Epoch 24/50\n",
            "600/600 - 5s - loss: 3.7556e-04 - accuracy: 0.9999 - val_loss: 0.1172 - val_accuracy: 0.9813\n",
            "Epoch 25/50\n",
            "600/600 - 6s - loss: 2.5478e-04 - accuracy: 0.9999 - val_loss: 0.1214 - val_accuracy: 0.9817\n",
            "Epoch 26/50\n",
            "600/600 - 5s - loss: 2.4262e-04 - accuracy: 0.9999 - val_loss: 0.1278 - val_accuracy: 0.9814\n",
            "Epoch 27/50\n",
            "600/600 - 5s - loss: 1.8963e-04 - accuracy: 0.9999 - val_loss: 0.1263 - val_accuracy: 0.9819\n",
            "Epoch 28/50\n",
            "600/600 - 5s - loss: 2.0761e-04 - accuracy: 0.9999 - val_loss: 0.1336 - val_accuracy: 0.9832\n",
            "Epoch 29/50\n",
            "600/600 - 5s - loss: 1.8002e-04 - accuracy: 1.0000 - val_loss: 0.1288 - val_accuracy: 0.9828\n",
            "Epoch 30/50\n",
            "600/600 - 5s - loss: 6.3820e-05 - accuracy: 1.0000 - val_loss: 0.1350 - val_accuracy: 0.9826\n",
            "Epoch 31/50\n",
            "600/600 - 5s - loss: 1.9020e-04 - accuracy: 0.9999 - val_loss: 0.1391 - val_accuracy: 0.9820\n",
            "Epoch 32/50\n",
            "600/600 - 5s - loss: 1.2176e-04 - accuracy: 1.0000 - val_loss: 0.1353 - val_accuracy: 0.9825\n",
            "Epoch 33/50\n",
            "600/600 - 5s - loss: 7.7631e-05 - accuracy: 1.0000 - val_loss: 0.1467 - val_accuracy: 0.9821\n",
            "Epoch 34/50\n",
            "600/600 - 5s - loss: 4.7222e-05 - accuracy: 1.0000 - val_loss: 0.1439 - val_accuracy: 0.9819\n",
            "Epoch 35/50\n",
            "600/600 - 5s - loss: 4.8026e-05 - accuracy: 1.0000 - val_loss: 0.1496 - val_accuracy: 0.9831\n",
            "Epoch 36/50\n",
            "600/600 - 5s - loss: 4.4845e-05 - accuracy: 1.0000 - val_loss: 0.1579 - val_accuracy: 0.9816\n",
            "Epoch 37/50\n",
            "600/600 - 5s - loss: 1.8711e-05 - accuracy: 1.0000 - val_loss: 0.1540 - val_accuracy: 0.9828\n",
            "Epoch 38/50\n",
            "600/600 - 6s - loss: 1.7071e-05 - accuracy: 1.0000 - val_loss: 0.1463 - val_accuracy: 0.9822\n",
            "Epoch 39/50\n",
            "600/600 - 5s - loss: 3.3318e-05 - accuracy: 1.0000 - val_loss: 0.1499 - val_accuracy: 0.9835\n",
            "Epoch 40/50\n",
            "600/600 - 5s - loss: 4.9932e-06 - accuracy: 1.0000 - val_loss: 0.1525 - val_accuracy: 0.9824\n",
            "Epoch 41/50\n",
            "600/600 - 5s - loss: 2.2758e-07 - accuracy: 1.0000 - val_loss: 0.1520 - val_accuracy: 0.9828\n",
            "Epoch 42/50\n",
            "600/600 - 5s - loss: 1.0222e-07 - accuracy: 1.0000 - val_loss: 0.1520 - val_accuracy: 0.9827\n",
            "Epoch 43/50\n",
            "600/600 - 5s - loss: 7.5510e-08 - accuracy: 1.0000 - val_loss: 0.1524 - val_accuracy: 0.9828\n",
            "Epoch 44/50\n",
            "600/600 - 5s - loss: 1.7911e-08 - accuracy: 1.0000 - val_loss: 0.1533 - val_accuracy: 0.9828\n",
            "Epoch 45/50\n",
            "600/600 - 5s - loss: 1.4420e-08 - accuracy: 1.0000 - val_loss: 0.1542 - val_accuracy: 0.9832\n",
            "Epoch 46/50\n",
            "600/600 - 5s - loss: 1.2755e-08 - accuracy: 1.0000 - val_loss: 0.1553 - val_accuracy: 0.9833\n",
            "Epoch 47/50\n",
            "600/600 - 5s - loss: 1.1627e-08 - accuracy: 1.0000 - val_loss: 0.1554 - val_accuracy: 0.9833\n",
            "Epoch 48/50\n",
            "600/600 - 6s - loss: 1.0602e-08 - accuracy: 1.0000 - val_loss: 0.1566 - val_accuracy: 0.9833\n",
            "Epoch 49/50\n",
            "600/600 - 5s - loss: 1.0077e-08 - accuracy: 1.0000 - val_loss: 0.1566 - val_accuracy: 0.9832\n",
            "Epoch 50/50\n",
            "600/600 - 5s - loss: 9.4155e-09 - accuracy: 1.0000 - val_loss: 0.1571 - val_accuracy: 0.9833\n"
          ],
          "name": "stdout"
        }
      ]
    },
    {
      "cell_type": "markdown",
      "metadata": {
        "id": "GxEZy2OXe6wf"
      },
      "source": [
        "But, even with just 10 epochs, we've outperformed our Tensorflow version considerably!"
      ]
    },
    {
      "cell_type": "code",
      "metadata": {
        "colab": {
          "base_uri": "https://localhost:8080/"
        },
        "id": "2ZevzohCe6wg",
        "outputId": "705b9ff9-30e9-4ada-ef0b-de6760ac6292"
      },
      "source": [
        "score = model.evaluate(test_images, test_labels, verbose=0)\n",
        "print('Test loss:', score[0])\n",
        "print('Test accuracy:', score[1])"
      ],
      "execution_count": null,
      "outputs": [
        {
          "output_type": "stream",
          "text": [
            "Test loss: 0.1571115106344223\n",
            "Test accuracy: 0.983299970626831\n"
          ],
          "name": "stdout"
        }
      ]
    },
    {
      "cell_type": "markdown",
      "metadata": {
        "id": "t9dXoQy4e6wg"
      },
      "source": [
        "As before let's visualize the ones it got wrong. As this model is much better, we'll have to search deeper to find mistakes to look at."
      ]
    },
    {
      "cell_type": "code",
      "metadata": {
        "colab": {
          "base_uri": "https://localhost:8080/",
          "height": 1000
        },
        "id": "N2GG0-X5e6wg",
        "outputId": "eb53a84c-8d03-41ff-b9d9-a4cc9d913251"
      },
      "source": [
        "for x in range(1000):\n",
        "    test_image = test_images[x,:].reshape(1,784)\n",
        "    predicted_cat = model.predict(test_image).argmax()\n",
        "    label = test_labels[x].argmax()\n",
        "    if (predicted_cat != label):\n",
        "        plt.title('Prediction: %d Label: %d' % (predicted_cat, label))\n",
        "        plt.imshow(test_image.reshape([28,28]), cmap=plt.get_cmap('gray_r'))\n",
        "        plt.show()"
      ],
      "execution_count": null,
      "outputs": [
        {
          "output_type": "display_data",
          "data": {
            "image/png": "[encoded data removed]",
            "text/plain": [
              "<Figure size 432x288 with 1 Axes>"
            ]
          },
          "metadata": {
            "tags": [],
            "needs_background": "light"
          }
        },
        {
          "output_type": "display_data",
          "data": {
            "image/png": "[encoded data removed]",
            "text/plain": [
              "<Figure size 432x288 with 1 Axes>"
            ]
          },
          "metadata": {
            "tags": [],
            "needs_background": "light"
          }
        },
        {
          "output_type": "display_data",
          "data": {
            "image/png": "[encoded data removed]",
            "text/plain": [
              "<Figure size 432x288 with 1 Axes>"
            ]
          },
          "metadata": {
            "tags": [],
            "needs_background": "light"
          }
        },
        {
          "output_type": "display_data",
          "data": {
            "image/png": "[encoded data removed]",
            "text/plain": [
              "<Figure size 432x288 with 1 Axes>"
            ]
          },
          "metadata": {
            "tags": [],
            "needs_background": "light"
          }
        },
        {
          "output_type": "display_data",
          "data": {
            "image/png": "[encoded data removed]",
            "text/plain": [
              "<Figure size 432x288 with 1 Axes>"
            ]
          },
          "metadata": {
            "tags": [],
            "needs_background": "light"
          }
        },
        {
          "output_type": "display_data",
          "data": {
            "image/png": "[encoded data removed]",
            "text/plain": [
              "<Figure size 432x288 with 1 Axes>"
            ]
          },
          "metadata": {
            "tags": [],
            "needs_background": "light"
          }
        },
        {
          "output_type": "display_data",
          "data": {
            "image/png": "[encoded data removed]",
            "text/plain": [
              "<Figure size 432x288 with 1 Axes>"
            ]
          },
          "metadata": {
            "tags": [],
            "needs_background": "light"
          }
        },
        {
          "output_type": "display_data",
          "data": {
            "image/png": "[encoded data removed]",
            "text/plain": [
              "<Figure size 432x288 with 1 Axes>"
            ]
          },
          "metadata": {
            "tags": [],
            "needs_background": "light"
          }
        },
        {
          "output_type": "display_data",
          "data": {
            "image/png": "[encoded data removed]",
            "text/plain": [
              "<Figure size 432x288 with 1 Axes>"
            ]
          },
          "metadata": {
            "tags": [],
            "needs_background": "light"
          }
        },
        {
          "output_type": "display_data",
          "data": {
            "image/png": "[encoded data removed]",
            "text/plain": [
              "<Figure size 432x288 with 1 Axes>"
            ]
          },
          "metadata": {
            "tags": [],
            "needs_background": "light"
          }
        },
        {
          "output_type": "display_data",
          "data": {
            "image/png": "[encoded data removed]",
            "text/plain": [
              "<Figure size 432x288 with 1 Axes>"
            ]
          },
          "metadata": {
            "tags": [],
            "needs_background": "light"
          }
        },
        {
          "output_type": "display_data",
          "data": {
            "image/png": "[encoded data removed]",
            "text/plain": [
              "<Figure size 432x288 with 1 Axes>"
            ]
          },
          "metadata": {
            "tags": [],
            "needs_background": "light"
          }
        },
        {
          "output_type": "display_data",
          "data": {
            "image/png": "[encoded data removed]",
            "text/plain": [
              "<Figure size 432x288 with 1 Axes>"
            ]
          },
          "metadata": {
            "tags": [],
            "needs_background": "light"
          }
        },
        {
          "output_type": "display_data",
          "data": {
            "image/png": "[encoded data removed]",
            "text/plain": [
              "<Figure size 432x288 with 1 Axes>"
            ]
          },
          "metadata": {
            "tags": [],
            "needs_background": "light"
          }
        },
        {
          "output_type": "display_data",
          "data": {
            "image/png": "[encoded data removed]",
            "text/plain": [
              "<Figure size 432x288 with 1 Axes>"
            ]
          },
          "metadata": {
            "tags": [],
            "needs_background": "light"
          }
        }
      ]
    },
    {
      "cell_type": "markdown",
      "metadata": {
        "collapsed": true,
        "id": "xJeIljEce6wg"
      },
      "source": [
        "You can see most of the ones it's having trouble with, are images a human would have trouble with as well!\n",
        "\n",
        "## Excercise\n",
        "\n",
        "As before, see if you can improve on the results! Does running more epochs help considerably? How about trying different optimizers?\n",
        "\n",
        "You can also take advantage of Keras's ease of use to try different topologies quickly. Keras includes a MNIST example, where they add an additional layer, and use Dropout at each step to prevent overfitting, like this:\n",
        "\n",
        "`\n",
        "model = Sequential()\n",
        "model.add(Dense(512, activation='relu', input_shape=(784,)))\n",
        "model.add(Dropout(0.2))\n",
        "model.add(Dense(512, activation='relu'))\n",
        "model.add(Dropout(0.2))\n",
        "model.add(Dense(10, activation='softmax'))\n",
        "`\n",
        "\n",
        "Try adapting that to our code above and see if it makes a difference or not."
      ]
    }
  ]
}