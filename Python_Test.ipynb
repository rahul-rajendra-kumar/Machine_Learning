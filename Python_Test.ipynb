{
  "nbformat": 4,
  "nbformat_minor": 0,
  "metadata": {
    "colab": {
      "name": "Python_Test.ipynb",
      "provenance": [],
      "collapsed_sections": [],
      "authorship_tag": "ABX9TyNwqbbX3H0FDKJWYFqSDzHF",
      "include_colab_link": true
    },
    "kernelspec": {
      "name": "python3",
      "display_name": "Python 3"
    }
  },
  "cells": [
    {
      "cell_type": "markdown",
      "metadata": {
        "id": "view-in-github",
        "colab_type": "text"
      },
      "source": [
        "<a href=\"https://colab.research.google.com/github/rahul-rajendra-kumar/Machine_Learning/blob/main/Python_Test.ipynb\" target=\"_parent\"><img src=\"https://colab.research.google.com/assets/colab-badge.svg\" alt=\"Open In Colab\"/></a>"
      ]
    },
    {
      "cell_type": "code",
      "metadata": {
        "colab": {
          "base_uri": "https://localhost:8080/"
        },
        "id": "tmXy9iTFYiFl",
        "outputId": "a7086da0-9d1e-4439-aaa2-2f8225d80b6d"
      },
      "source": [
        "# Import required libraries and get access to the required file\n",
        "\n",
        "from datetime import datetime\n",
        "from collections import OrderedDict\n",
        "from google.colab import drive\n",
        "drive.mount('/content/drive', force_remount=True)\n",
        "dataPath = '/content/drive/My Drive/PROJECTS/sales-data.txt'"
      ],
      "execution_count": null,
      "outputs": [
        {
          "output_type": "stream",
          "text": [
            "Mounted at /content/drive\n"
          ],
          "name": "stdout"
        }
      ]
    },
    {
      "cell_type": "code",
      "metadata": {
        "colab": {
          "base_uri": "https://localhost:8080/"
        },
        "id": "az2RdnZiVXob",
        "outputId": "9f167ee3-0816-4e98-986c-2183bb544dbc"
      },
      "source": [
        "# Read the data from the file and format the data based on the requirement\n",
        "\n",
        "f = open(dataPath, \"r\")\n",
        "data = [x.strip().split(',') for x in f.readlines()]\n",
        "columnNames = data[0]\n",
        "finalData = [[datetime.strptime(n[0],'%Y-%m-%d').strftime(\"%B\"),n[1],int(n[2]),int(n[3]),int(n[4])] for n in data[1:]]\n",
        "(columnNames,finalData[0:5])"
      ],
      "execution_count": null,
      "outputs": [
        {
          "output_type": "execute_result",
          "data": {
            "text/plain": [
              "(['Date', 'SKU', 'Unit Price', 'Quantity', 'Total Price'],\n",
              " [['January', 'Death by Chocolate', 180, 5, 900],\n",
              "  ['January', 'Cake Fudge', 150, 1, 150],\n",
              "  ['January', 'Cake Fudge', 150, 1, 150],\n",
              "  ['January', 'Cake Fudge', 150, 3, 450],\n",
              "  ['January', 'Death by Chocolate', 180, 1, 180]])"
            ]
          },
          "metadata": {
            "tags": []
          },
          "execution_count": 2
        }
      ]
    },
    {
      "cell_type": "code",
      "metadata": {
        "id": "4pio6PhrUfOY"
      },
      "source": [
        "# This is a function to generate dictionaries of required format to do analysis on the obtained data\n",
        "# It receives 2 parameters --> \n",
        "# type is the type of information required (\"Sales\"/\"Revenue\") and listData is the actual data to be processed\n",
        "# It returns a dictionary with the required information on a monthly format\n",
        "\n",
        "def GenerateDict(type,listData):\n",
        "  monthsDict = {}\n",
        "  monthlist = [a[0] for a in listData]\n",
        "  months = list(OrderedDict((z, None) for z in monthlist).keys())\n",
        "  for month in months:monthsDict[month] = {}\n",
        "  for i in listData:\n",
        "    if type == \"Sales\": \n",
        "      if i[1] in list(monthsDict[i[0]].keys()): monthsDict[i[0]][i[1]] += i[3]\n",
        "      else: monthsDict[i[0]][i[1]] = i[3]\n",
        "    if type == \"Revenue\":\n",
        "      if i[1] in list(monthsDict[i[0]].keys()): monthsDict[i[0]][i[1]] += i[4]\n",
        "      else: monthsDict[i[0]][i[1]] = i[4]\n",
        "  return monthsDict"
      ],
      "execution_count": null,
      "outputs": []
    },
    {
      "cell_type": "code",
      "metadata": {
        "colab": {
          "base_uri": "https://localhost:8080/"
        },
        "id": "bnyjHJze-cxm",
        "outputId": "748633b5-4f1e-420a-f742-081016370e90"
      },
      "source": [
        "# Running the function to generate the analysis results\n",
        "\n",
        "totalSales = 0\n",
        "for i in finalData: totalSales += i[3] \n",
        "print(\"Total number of items sold by the store =\", totalSales)\n",
        "\n",
        "\n",
        "print('\\n',\"The monthly sales count is given by:\")\n",
        "m = GenerateDict(\"Sales\",finalData)\n",
        "for key in m.keys():\n",
        "  print(key,':',sum(m[key].values()))\n",
        "\n",
        "\n",
        "print('\\n',\"The monthly popular sales count is given by:\")\n",
        "minmax = {}\n",
        "for k in m.keys():\n",
        "  maxk = max(m[k], key=lambda key: m[k][key])\n",
        "  print(k,':',maxk,'(',m[k][maxk],')')\n",
        "  minmax[k] = m[k][maxk]\n",
        "print('\\n',\"The min sale of the popular product is :\",min(list(minmax.values())))\n",
        "print('\\n',\"The max sale of the popular product is :\",max(list(minmax.values())))\n",
        "print('\\n',\"The Avg sale of the popular product is :\",sum(list(minmax.values()))/len(list(minmax.values())))\n",
        "\n",
        "print('\\n',\"The monthly maximum revenue generating product is given by:\")\n",
        "m = GenerateDict(\"Revenue\",finalData)\n",
        "for k in m.keys():\n",
        "  maxk = max(m[k], key=lambda key: m[k][key])\n",
        "  print(k,':',maxk,'(',m[k][maxk],')')\n"
      ],
      "execution_count": null,
      "outputs": [
        {
          "output_type": "stream",
          "text": [
            "Total number of items sold by the store = 42335\n",
            "\n",
            " The monthly sales count is given by:\n",
            "January : 13200\n",
            "February : 13152\n",
            "March : 15983\n",
            "\n",
            " The monthly popular sales count is given by:\n",
            "January : Hot Chocolate Fudge ( 2673 )\n",
            "February : Hot Chocolate Fudge ( 2636 )\n",
            "March : Hot Chocolate Fudge ( 3100 )\n",
            "\n",
            " The min sale of the popular product is : 2636\n",
            "\n",
            " The max sale of the popular product is : 3100\n",
            "\n",
            " The Avg sale of the popular product is : 2803.0\n",
            "\n",
            " The monthly maximum revenue generating product is given by:\n",
            "January : Hot Chocolate Fudge ( 320760 )\n",
            "February : Hot Chocolate Fudge ( 316320 )\n",
            "March : Hot Chocolate Fudge ( 372000 )\n"
          ],
          "name": "stdout"
        }
      ]
    }
  ]
}