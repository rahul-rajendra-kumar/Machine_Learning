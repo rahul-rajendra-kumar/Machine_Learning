{
  "nbformat": 4,
  "nbformat_minor": 0,
  "metadata": {
    "colab": {
      "name": "Text_Analysis.ipynb",
      "provenance": [],
      "authorship_tag": "ABX9TyM+oSHOUXV5YPF3OpkhTVYQ",
      "include_colab_link": true
    },
    "kernelspec": {
      "name": "python3",
      "display_name": "Python 3"
    }
  },
  "cells": [
    {
      "cell_type": "markdown",
      "metadata": {
        "id": "view-in-github",
        "colab_type": "text"
      },
      "source": [
        "<a href=\"https://colab.research.google.com/github/rahul-rajendra-kumar/Machine_Learning/blob/main/Text_Analysis.ipynb\" target=\"_parent\"><img src=\"https://colab.research.google.com/assets/colab-badge.svg\" alt=\"Open In Colab\"/></a>"
      ]
    },
    {
      "cell_type": "code",
      "metadata": {
        "colab": {
          "base_uri": "https://localhost:8080/"
        },
        "id": "mv4W3lQRWBiK",
        "outputId": "196bce5e-90fc-49ce-f2d8-25d93eda98ef"
      },
      "source": [
        "!pip install nltk"
      ],
      "execution_count": null,
      "outputs": [
        {
          "output_type": "stream",
          "text": [
            "Requirement already satisfied: nltk in /usr/local/lib/python3.6/dist-packages (3.2.5)\n",
            "Requirement already satisfied: six in /usr/local/lib/python3.6/dist-packages (from nltk) (1.15.0)\n"
          ],
          "name": "stdout"
        }
      ]
    },
    {
      "cell_type": "code",
      "metadata": {
        "colab": {
          "base_uri": "https://localhost:8080/"
        },
        "id": "65TrbOZxW8hQ",
        "outputId": "1c9801c4-9d8b-4388-c20c-435dd9855f82"
      },
      "source": [
        "import nltk\n",
        "from nltk.tokenize import sent_tokenize\n",
        "from nltk.tokenize import word_tokenize\n",
        "from nltk.probability import FreqDist\n",
        "import matplotlib.pyplot as plt\n",
        "from nltk.corpus import stopwords\n",
        "from nltk.stem import PorterStemmer\n",
        "from nltk.tokenize import sent_tokenize, word_tokenize\n",
        "from nltk.stem.wordnet import WordNetLemmatizer\n",
        "from nltk.stem.porter import PorterStemmer\n",
        "nltk.download('punkt')\n",
        "nltk.download('stopwords')\n",
        "nltk.download('wordnet')\n",
        "nltk.download('averaged_perceptron_tagger')"
      ],
      "execution_count": null,
      "outputs": [
        {
          "output_type": "stream",
          "text": [
            "[nltk_data] Downloading package punkt to /root/nltk_data...\n",
            "[nltk_data]   Package punkt is already up-to-date!\n",
            "[nltk_data] Downloading package stopwords to /root/nltk_data...\n",
            "[nltk_data]   Package stopwords is already up-to-date!\n",
            "[nltk_data] Downloading package wordnet to /root/nltk_data...\n",
            "[nltk_data]   Package wordnet is already up-to-date!\n",
            "[nltk_data] Downloading package averaged_perceptron_tagger to\n",
            "[nltk_data]     /root/nltk_data...\n",
            "[nltk_data]   Unzipping taggers/averaged_perceptron_tagger.zip.\n"
          ],
          "name": "stdout"
        },
        {
          "output_type": "execute_result",
          "data": {
            "text/plain": [
              "True"
            ]
          },
          "metadata": {
            "tags": []
          },
          "execution_count": 32
        }
      ]
    },
    {
      "cell_type": "code",
      "metadata": {
        "colab": {
          "base_uri": "https://localhost:8080/"
        },
        "id": "jLG5ENMeW_aG",
        "outputId": "7bc0f7a6-d751-4456-d495-950286e0b16f"
      },
      "source": [
        "\n",
        "text=\"\"\"What is this text? This text is a required text and all required texts are important texts, provided the text should be a valid text\"\"\"\n",
        "tokenized_text=sent_tokenize(text)\n",
        "print(tokenized_text)"
      ],
      "execution_count": null,
      "outputs": [
        {
          "output_type": "stream",
          "text": [
            "['What is this text?', 'This text is a required text and all required texts are important texts, provided the text should be a valid text']\n"
          ],
          "name": "stdout"
        }
      ]
    },
    {
      "cell_type": "code",
      "metadata": {
        "colab": {
          "base_uri": "https://localhost:8080/"
        },
        "id": "8V5jy2F_XnZs",
        "outputId": "4a9e8f81-a61f-48cb-d16e-22190d7b473f"
      },
      "source": [
        "tokenized_word=word_tokenize(text)\n",
        "print(tokenized_word)"
      ],
      "execution_count": null,
      "outputs": [
        {
          "output_type": "stream",
          "text": [
            "['What', 'is', 'this', 'text', '?', 'This', 'text', 'is', 'a', 'required', 'text', 'and', 'all', 'required', 'texts', 'are', 'important', 'texts', ',', 'provided', 'the', 'text', 'should', 'be', 'a', 'valid', 'text']\n"
          ],
          "name": "stdout"
        }
      ]
    },
    {
      "cell_type": "code",
      "metadata": {
        "colab": {
          "base_uri": "https://localhost:8080/",
          "height": 335
        },
        "id": "vca67D4PX6l4",
        "outputId": "ac3f9e05-0373-4026-91b6-d0df4af987fd"
      },
      "source": [
        "fdist = FreqDist(tokenized_word)\n",
        "print(fdist.most_common(2))\n",
        "\n",
        "fdist.plot(30,cumulative=False)\n",
        "plt.show()"
      ],
      "execution_count": null,
      "outputs": [
        {
          "output_type": "stream",
          "text": [
            "[('text', 5), ('is', 2)]\n"
          ],
          "name": "stdout"
        },
        {
          "output_type": "display_data",
          "data": {
            "image/png": "[encoded data removed]",
            "text/plain": [
              "<Figure size 432x288 with 1 Axes>"
            ]
          },
          "metadata": {
            "tags": [],
            "needs_background": "light"
          }
        }
      ]
    },
    {
      "cell_type": "code",
      "metadata": {
        "colab": {
          "base_uri": "https://localhost:8080/"
        },
        "id": "ltl7B_6bYgdM",
        "outputId": "db4a4a30-8202-4ecd-9b3c-71edb0bce310"
      },
      "source": [
        "stop_words=set(stopwords.words(\"english\"))\n",
        "filtered_word=[w for w in tokenized_word if w not in stop_words]\n",
        "print(\"Tokenized Sentence:\",tokenized_word)\n",
        "print(\"Filterd Sentence:\",filtered_word)"
      ],
      "execution_count": null,
      "outputs": [
        {
          "output_type": "stream",
          "text": [
            "Tokenized Sentence: ['What', 'is', 'this', 'text', '?', 'This', 'text', 'is', 'a', 'required', 'text', 'and', 'all', 'required', 'texts', 'are', 'important', 'texts', ',', 'provided', 'the', 'text', 'should', 'be', 'a', 'valid', 'text']\n",
            "Filterd Sentence: ['What', 'text', '?', 'This', 'text', 'required', 'text', 'required', 'texts', 'important', 'texts', ',', 'provided', 'text', 'valid', 'text']\n"
          ],
          "name": "stdout"
        }
      ]
    },
    {
      "cell_type": "code",
      "metadata": {
        "colab": {
          "base_uri": "https://localhost:8080/"
        },
        "id": "EsVDuuQxZbzi",
        "outputId": "6b9e5929-6b40-4873-bf94-03be7ef9fdf5"
      },
      "source": [
        "ps = PorterStemmer()\n",
        "\n",
        "stemmed_words=[ps.stem(w) for w in filtered_word]\n",
        "print(\"Filtered Sentence:\",filtered_word)\n",
        "print(\"Stemmed Sentence:\",stemmed_words)"
      ],
      "execution_count": null,
      "outputs": [
        {
          "output_type": "stream",
          "text": [
            "Filtered Sentence: ['What', 'text', '?', 'This', 'text', 'required', 'text', 'required', 'texts', 'important', 'texts', ',', 'provided', 'text', 'valid', 'text']\n",
            "Stemmed Sentence: ['what', 'text', '?', 'thi', 'text', 'requir', 'text', 'requir', 'text', 'import', 'text', ',', 'provid', 'text', 'valid', 'text']\n"
          ],
          "name": "stdout"
        }
      ]
    },
    {
      "cell_type": "code",
      "metadata": {
        "colab": {
          "base_uri": "https://localhost:8080/"
        },
        "id": "4ca-17YBZwoH",
        "outputId": "971cf343-8500-41fe-c024-710602eb835a"
      },
      "source": [
        "lem = WordNetLemmatizer()\n",
        "\n",
        "lemmatized_word=[lem.lemmatize(w,\"v\") for w in filtered_word]\n",
        "print(\"Filtered Sentence:\",filtered_word)\n",
        "print(\"Lemmatized Word:\",lemmatized_word)\n",
        "nltk.pos_tag(lemmatized_word)"
      ],
      "execution_count": null,
      "outputs": [
        {
          "output_type": "stream",
          "text": [
            "Filtered Sentence: ['What', 'text', '?', 'This', 'text', 'required', 'text', 'required', 'texts', 'important', 'texts', ',', 'provided', 'text', 'valid', 'text']\n",
            "Lemmatized Word: ['What', 'text', '?', 'This', 'text', 'require', 'text', 'require', 'texts', 'important', 'texts', ',', 'provide', 'text', 'valid', 'text']\n"
          ],
          "name": "stdout"
        },
        {
          "output_type": "execute_result",
          "data": {
            "text/plain": [
              "[('What', 'WP'),\n",
              " ('text', 'NN'),\n",
              " ('?', '.'),\n",
              " ('This', 'DT'),\n",
              " ('text', 'NN'),\n",
              " ('require', 'VBP'),\n",
              " ('text', 'NN'),\n",
              " ('require', 'NN'),\n",
              " ('texts', 'NN'),\n",
              " ('important', 'JJ'),\n",
              " ('texts', 'NN'),\n",
              " (',', ','),\n",
              " ('provide', 'VBP'),\n",
              " ('text', 'IN'),\n",
              " ('valid', 'JJ'),\n",
              " ('text', 'NN')]"
            ]
          },
          "metadata": {
            "tags": []
          },
          "execution_count": 33
        }
      ]
    },
    {
      "cell_type": "code",
      "metadata": {
        "colab": {
          "base_uri": "https://localhost:8080/",
          "height": 319
        },
        "id": "GkjXrRjWbT7B",
        "outputId": "637601a8-a368-4aa2-d665-91bda67688a1"
      },
      "source": [
        "fdist1 = FreqDist(stemmed_words)\n",
        "print(fdist1.most_common(2))\n",
        "\n",
        "fdist1.plot(30,cumulative=False)\n",
        "plt.show()"
      ],
      "execution_count": null,
      "outputs": [
        {
          "output_type": "stream",
          "text": [
            "[('text', 7), ('requir', 2)]\n"
          ],
          "name": "stdout"
        },
        {
          "output_type": "display_data",
          "data": {
            "image/png": "[encoded data removed]",
            "text/plain": [
              "<Figure size 432x288 with 1 Axes>"
            ]
          },
          "metadata": {
            "tags": [],
            "needs_background": "light"
          }
        }
      ]
    },
    {
      "cell_type": "code",
      "metadata": {
        "colab": {
          "base_uri": "https://localhost:8080/",
          "height": 335
        },
        "id": "gtOW-0k9bxFl",
        "outputId": "f39aa840-5ed0-421a-9d0b-6a8421865519"
      },
      "source": [
        "fdist2 = FreqDist(lemmatized_word)\n",
        "print(fdist2.most_common(2))\n",
        "\n",
        "fdist2.plot(30,cumulative=False)\n",
        "plt.show()"
      ],
      "execution_count": null,
      "outputs": [
        {
          "output_type": "stream",
          "text": [
            "[('text', 5), ('require', 2)]\n"
          ],
          "name": "stdout"
        },
        {
          "output_type": "display_data",
          "data": {
            "image/png": "[encoded data removed]",
            "text/plain": [
              "<Figure size 432x288 with 1 Axes>"
            ]
          },
          "metadata": {
            "tags": [],
            "needs_background": "light"
          }
        }
      ]
    }
  ]
}